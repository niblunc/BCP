{
 "cells": [
  {
   "cell_type": "markdown",
   "metadata": {},
   "source": [
    "# Participant list  \n"
   ]
  },
  {
   "cell_type": "code",
   "execution_count": 28,
   "metadata": {},
   "outputs": [],
   "source": [
    "import os, glob\n",
    "import pandas as pd\n",
    "import warnings\n",
    "warnings.filterwarnings('ignore')\n",
    "import pdb"
   ]
  },
  {
   "cell_type": "markdown",
   "metadata": {},
   "source": [
    "### Load in given participant ID list"
   ]
  },
  {
   "cell_type": "code",
   "execution_count": 29,
   "metadata": {},
   "outputs": [],
   "source": [
    "\n",
    "participant_file = \"/Users/nikkibytes/Documents/summer2019/bcp_data/participant_list.tsv\"\n",
    "\n",
    "file_df = pd.read_csv(participant_file, sep=\"\\t\")\n"
   ]
  },
  {
   "cell_type": "markdown",
   "metadata": {},
   "source": [
    "#### Clean and organize list"
   ]
  },
  {
   "cell_type": "code",
   "execution_count": 30,
   "metadata": {},
   "outputs": [
    {
     "data": {
      "text/html": [
       "<div>\n",
       "<style scoped>\n",
       "    .dataframe tbody tr th:only-of-type {\n",
       "        vertical-align: middle;\n",
       "    }\n",
       "\n",
       "    .dataframe tbody tr th {\n",
       "        vertical-align: top;\n",
       "    }\n",
       "\n",
       "    .dataframe thead th {\n",
       "        text-align: right;\n",
       "    }\n",
       "</style>\n",
       "<table border=\"1\" class=\"dataframe\">\n",
       "  <thead>\n",
       "    <tr style=\"text-align: right;\">\n",
       "      <th></th>\n",
       "      <th>Record ID</th>\n",
       "      <th>Date of Intake</th>\n",
       "      <th>Child/Mother</th>\n",
       "      <th>QA Done/Sent to PI + Date</th>\n",
       "      <th>Site</th>\n",
       "    </tr>\n",
       "  </thead>\n",
       "  <tbody>\n",
       "    <tr>\n",
       "      <td>0</td>\n",
       "      <td>105040</td>\n",
       "      <td>3/1/2017</td>\n",
       "      <td>Child</td>\n",
       "      <td>7.19.2018</td>\n",
       "      <td>UMN</td>\n",
       "    </tr>\n",
       "    <tr>\n",
       "      <td>1</td>\n",
       "      <td>105040</td>\n",
       "      <td>6/8/2017</td>\n",
       "      <td>Child</td>\n",
       "      <td>7.19.2018</td>\n",
       "      <td>UMN</td>\n",
       "    </tr>\n",
       "    <tr>\n",
       "      <td>2</td>\n",
       "      <td>105040</td>\n",
       "      <td>9/7/2017</td>\n",
       "      <td>Child</td>\n",
       "      <td>7.19.2018</td>\n",
       "      <td>UMN</td>\n",
       "    </tr>\n",
       "    <tr>\n",
       "      <td>3</td>\n",
       "      <td>116056</td>\n",
       "      <td>9/29/2016</td>\n",
       "      <td>Child</td>\n",
       "      <td>7.19.2018</td>\n",
       "      <td>UMN</td>\n",
       "    </tr>\n",
       "    <tr>\n",
       "      <td>4</td>\n",
       "      <td>116056</td>\n",
       "      <td>12/18/2016</td>\n",
       "      <td>Child</td>\n",
       "      <td>7.19.2018</td>\n",
       "      <td>UMN</td>\n",
       "    </tr>\n",
       "    <tr>\n",
       "      <td>...</td>\n",
       "      <td>...</td>\n",
       "      <td>...</td>\n",
       "      <td>...</td>\n",
       "      <td>...</td>\n",
       "      <td>...</td>\n",
       "    </tr>\n",
       "    <tr>\n",
       "      <td>1265</td>\n",
       "      <td>793775</td>\n",
       "      <td>11/8/2018</td>\n",
       "      <td>Child</td>\n",
       "      <td>10.1.2019</td>\n",
       "      <td>UNC</td>\n",
       "    </tr>\n",
       "    <tr>\n",
       "      <td>1266</td>\n",
       "      <td>800148</td>\n",
       "      <td>3/4/2019</td>\n",
       "      <td>Child</td>\n",
       "      <td>10.1.2019</td>\n",
       "      <td>UNC</td>\n",
       "    </tr>\n",
       "    <tr>\n",
       "      <td>1267</td>\n",
       "      <td>908754</td>\n",
       "      <td>3/21/2019</td>\n",
       "      <td>Child</td>\n",
       "      <td>10.1.2019</td>\n",
       "      <td>UNC</td>\n",
       "    </tr>\n",
       "    <tr>\n",
       "      <td>1268</td>\n",
       "      <td>911829</td>\n",
       "      <td>11/30/2018</td>\n",
       "      <td>Child</td>\n",
       "      <td>10.1.2019</td>\n",
       "      <td>UNC</td>\n",
       "    </tr>\n",
       "    <tr>\n",
       "      <td>1269</td>\n",
       "      <td>911829</td>\n",
       "      <td>11/16/2018</td>\n",
       "      <td>Child</td>\n",
       "      <td>10.1.2019</td>\n",
       "      <td>UNC</td>\n",
       "    </tr>\n",
       "  </tbody>\n",
       "</table>\n",
       "<p>1270 rows × 5 columns</p>\n",
       "</div>"
      ],
      "text/plain": [
       "     Record ID Date of Intake Child/Mother QA Done/Sent to PI + Date Site\n",
       "0       105040       3/1/2017       Child                  7.19.2018  UMN\n",
       "1       105040       6/8/2017       Child                  7.19.2018  UMN\n",
       "2       105040       9/7/2017       Child                  7.19.2018  UMN\n",
       "3       116056      9/29/2016       Child                  7.19.2018  UMN\n",
       "4       116056     12/18/2016       Child                  7.19.2018  UMN\n",
       "...        ...            ...          ...                       ...  ...\n",
       "1265    793775      11/8/2018        Child                 10.1.2019  UNC\n",
       "1266    800148       3/4/2019        Child                 10.1.2019  UNC\n",
       "1267    908754      3/21/2019        Child                 10.1.2019  UNC\n",
       "1268    911829     11/30/2018        Child                 10.1.2019  UNC\n",
       "1269    911829     11/16/2018        Child                 10.1.2019  UNC\n",
       "\n",
       "[1270 rows x 5 columns]"
      ]
     },
     "execution_count": 30,
     "metadata": {},
     "output_type": "execute_result"
    }
   ],
   "source": [
    "# remove the extension on the ID tag so we can count unique IDS \n",
    "# -- MAY WANT TO CHANGE THIS IN FUTURE, currently not all ids follow with extension\n",
    "for val in file_df[\"Record ID\"]:\n",
    "    _id = str(val).split(\"_\")[0]\n",
    "    file_df.replace(val, _id, inplace=True)\n",
    "\n",
    "file_df\n"
   ]
  },
  {
   "cell_type": "code",
   "execution_count": 31,
   "metadata": {},
   "outputs": [
    {
     "data": {
      "text/plain": [
       "array(['Child ', 'Mom', 'Child'], dtype=object)"
      ]
     },
     "execution_count": 31,
     "metadata": {},
     "output_type": "execute_result"
    }
   ],
   "source": [
    "# syntax edit -- remove space in \"Child\" value\n",
    "file_df.head()\n",
    "file_df[\"Child/Mother\"].unique()\n"
   ]
  },
  {
   "cell_type": "code",
   "execution_count": 32,
   "metadata": {},
   "outputs": [
    {
     "data": {
      "text/plain": [
       "array(['Child', 'Mom'], dtype=object)"
      ]
     },
     "execution_count": 32,
     "metadata": {},
     "output_type": "execute_result"
    }
   ],
   "source": [
    "file_df.replace('Child ', 'Child', inplace=True)\n",
    "file_df[\"Child/Mother\"].unique()\n"
   ]
  },
  {
   "cell_type": "code",
   "execution_count": 39,
   "metadata": {},
   "outputs": [],
   "source": [
    "# lets go through and make a dictionary of our IDs and the corresponding information\n",
    "# this way we can access our IDs and as the identifying key and select info from there\n",
    "ids=file_df[[\"Record ID\", 'Child/Mother']].drop_duplicates(\"Record ID\")\n",
    "data_dict={}\n",
    "# loop through each UNIQUE id, making them the key to the dictionary,\n",
    "# then fill in the value with the id dataframe, giving us a dictionary of dataframes by ids\n",
    "for x in ids[\"Record ID\"]:\n",
    "    if x not in data_dict:\n",
    "        data_dict[x] = {}\n",
    "    is_same = file_df[\"Record ID\"] == x\n",
    "    id_df = file_df[is_same]\n",
    "    id_df = id_df[['Date of Intake', 'Child/Mother',\n",
    "       'QA Done/Sent to PI + Date', 'Site']]\n",
    "    data_dict[x][\"df\"] = id_df\n",
    "    \n",
    "    \n"
   ]
  },
  {
   "cell_type": "code",
   "execution_count": 44,
   "metadata": {},
   "outputs": [
    {
     "name": "stdout",
     "output_type": "stream",
     "text": [
      "Mom ID count: \t\t132 \n",
      "Child ID count: \t237 \n",
      "\n"
     ]
    }
   ],
   "source": [
    "ct_unique_child_ids=(ids['Child/Mother']==\"Child\").sum()\n",
    "ct_unique_mom_ids=(ids['Child/Mother']==\"Mom\").sum()\n",
    "print(\"Mom ID count: \\t\\t{} \\nChild ID count: \\t{} \\n\".format(ct_unique_mom_ids, ct_unique_child_ids))\n",
    "#data_dict\n",
    "#105040"
   ]
  },
  {
   "cell_type": "markdown",
   "metadata": {},
   "source": [
    "### Add functionality\n",
    "#### Thoughts:  \n",
    "* Look at data by id, site, mom vs. child, dates...  \n",
    "* Display data, *grab particular variables*, output file reports   \n",
    "* Match child with mom "
   ]
  },
  {
   "cell_type": "markdown",
   "metadata": {},
   "source": [
    "#### By ID"
   ]
  },
  {
   "cell_type": "code",
   "execution_count": 21,
   "metadata": {},
   "outputs": [
    {
     "name": "stdin",
     "output_type": "stream",
     "text": [
      "Enter one of the following options to view data: \n",
      "                     - a 6 digit identification search code \n",
      "                     - Or one of the keyword in quotes: \n",
      "                         - by sites: 'site', or a specific site 'unc' or 'umn' \n",
      "                         - by relationships: 'mom', 'child', 'rel' \n",
      "                         - by dates: 'intake', 'qa' or 'date'\n",
      " \n"
     ]
    }
   ],
   "source": [
    "input_id= input(\"Enter one of the following options to view data: \\n \\\n",
    "                    - a 6 digit identification search code \\n \\\n",
    "                    - Or one of the keyword in quotes: \\n \\\n",
    "                        - by sites: 'site', or a specific site 'unc' or 'umn' \\n \\\n",
    "                        - by relationships: 'mom', 'child', 'rel' \\n \\\n",
    "                        - by dates: 'intake', 'qa' or 'date'\\n\")"
   ]
  },
  {
   "cell_type": "code",
   "execution_count": 22,
   "metadata": {},
   "outputs": [
    {
     "name": "stdout",
     "output_type": "stream",
     "text": [
      "No match Found\n"
     ]
    },
    {
     "data": {
      "text/plain": [
       "Index(['Record ID', 'Date of Intake', 'Child/Mother',\n",
       "       'QA Done/Sent to PI + Date', 'Site'],\n",
       "      dtype='object')"
      ]
     },
     "execution_count": 22,
     "metadata": {},
     "output_type": "execute_result"
    }
   ],
   "source": [
    "# assume 6 digit id given since it's only 6 digit option\n",
    "# display by IDs\n",
    "if len(input_id) == 6 and input_id != \"intake\":\n",
    "    print(data_dict[input_id])\n",
    "# display by sites\n",
    "elif input_id in [\"site\", \"unc\", \"umn\"]:\n",
    "    print(file_df[\"Site\"])\n",
    "# display by mom or child\n",
    "elif input_id in [\"mom\", \"child\", \"rel\"]:\n",
    "    print(file_df[\"Child/Mother\"])\n",
    "# display by input dates\n",
    "elif input_id in ['intake', 'qa', 'date']:\n",
    "    print(file_df['Date of Intake'])\n",
    "else:\n",
    "    print(\"No match Found\")\n",
    "file_df.columns"
   ]
  }
 ],
 "metadata": {
  "kernelspec": {
   "display_name": "Python 3",
   "language": "python",
   "name": "python3"
  },
  "language_info": {
   "codemirror_mode": {
    "name": "ipython",
    "version": 3
   },
   "file_extension": ".py",
   "mimetype": "text/x-python",
   "name": "python",
   "nbconvert_exporter": "python",
   "pygments_lexer": "ipython3",
   "version": "3.6.9"
  }
 },
 "nbformat": 4,
 "nbformat_minor": 4
}
