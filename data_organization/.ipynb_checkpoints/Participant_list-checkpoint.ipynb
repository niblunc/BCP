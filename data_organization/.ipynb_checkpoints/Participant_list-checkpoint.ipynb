{
 "cells": [
  {
   "cell_type": "code",
   "execution_count": 4,
   "metadata": {},
   "outputs": [],
   "source": [
    "import os, glob\n",
    "import pandas as pd\n",
    "import warnings\n",
    "warnings.filterwarnings('ignore')"
   ]
  },
  {
   "cell_type": "code",
   "execution_count": 5,
   "metadata": {},
   "outputs": [
    {
     "name": "stdout",
     "output_type": "stream",
     "text": [
      "Text Files Found:  \\/Users/nikkibytes/Documents/summer2019/example_data/Total_Participant_Dataset.xlsx\n",
      "Sheet Names: ['All Participants']\n",
      "Columns: Index(['Record ID', 'Date of Intake', 'Child/Mother',\n",
      "       'QA Done/Sent to PI + Date', 'Site'],\n",
      "      dtype='object') \n",
      "Size: (1015, 5)\n"
     ]
    }
   ],
   "source": [
    "\n",
    "participant_file = \"/Users/nikkibytes/Documents/summer2019/example_data/Total_Participant_Dataset.xlsx\"\n",
    "\n",
    "\n",
    "print(\"Text Files Found:  \\{}\".format(participant_file))\n",
    "\n",
    "participant_xl = pd.ExcelFile(participant_file)\n",
    "\n",
    "print(\"Sheet Names: {}\".format(participant_xl.sheet_names))\n",
    "\n",
    "participant_df = participant_xl.parse(\"All Participants\")\n",
    "print(\"Columns: {} \\nSize: {}\".format(participant_df.columns, participant_df.shape))\n"
   ]
  },
  {
   "cell_type": "code",
   "execution_count": 6,
   "metadata": {},
   "outputs": [
    {
     "data": {
      "text/plain": [
       "array(['Child', 'Mom'], dtype=object)"
      ]
     },
     "execution_count": 6,
     "metadata": {},
     "output_type": "execute_result"
    }
   ],
   "source": [
    "# syntax edit \n",
    "participant_df.head()\n",
    "participant_df[\"Child/Mother\"].unique()\n",
    "participant_df.replace('Child ', 'Child', inplace=True)\n",
    "participant_df[\"Child/Mother\"].unique()\n",
    "\n"
   ]
  },
  {
   "cell_type": "code",
   "execution_count": 7,
   "metadata": {},
   "outputs": [
    {
     "data": {
      "text/plain": [
       "array(['Child', 'Mom'], dtype=object)"
      ]
     },
     "execution_count": 7,
     "metadata": {},
     "output_type": "execute_result"
    }
   ],
   "source": [
    "temp_df= participant_df.drop_duplicates(subset=\"Record ID\")\n",
    "\n",
    "temp_df[\"Child/Mother\"].unique()"
   ]
  },
  {
   "cell_type": "code",
   "execution_count": 9,
   "metadata": {},
   "outputs": [],
   "source": [
    "for val in temp_df[\"Record ID\"]:\n",
    "    _id = str(val).split(\"_\")[0]\n",
    "    temp_df.replace(val, _id, inplace=True)\n"
   ]
  },
  {
   "cell_type": "code",
   "execution_count": 12,
   "metadata": {},
   "outputs": [],
   "source": [
    "temp_df = temp_df.drop_duplicates(subset=\"Record ID\")\n"
   ]
  },
  {
   "cell_type": "markdown",
   "metadata": {},
   "source": [
    "## Get Child Participants"
   ]
  },
  {
   "cell_type": "code",
   "execution_count": 13,
   "metadata": {},
   "outputs": [
    {
     "name": "stdout",
     "output_type": "stream",
     "text": [
      "Check unique values returned is only child: \n",
      "['Child']\n"
     ]
    },
    {
     "data": {
      "text/html": [
       "<div>\n",
       "<style scoped>\n",
       "    .dataframe tbody tr th:only-of-type {\n",
       "        vertical-align: middle;\n",
       "    }\n",
       "\n",
       "    .dataframe tbody tr th {\n",
       "        vertical-align: top;\n",
       "    }\n",
       "\n",
       "    .dataframe thead th {\n",
       "        text-align: right;\n",
       "    }\n",
       "</style>\n",
       "<table border=\"1\" class=\"dataframe\">\n",
       "  <thead>\n",
       "    <tr style=\"text-align: right;\">\n",
       "      <th></th>\n",
       "      <th>Record ID</th>\n",
       "      <th>Date of Intake</th>\n",
       "      <th>Child/Mother</th>\n",
       "      <th>QA Done/Sent to PI + Date</th>\n",
       "      <th>Site</th>\n",
       "    </tr>\n",
       "  </thead>\n",
       "  <tbody>\n",
       "    <tr>\n",
       "      <th>0</th>\n",
       "      <td>105040</td>\n",
       "      <td>2017-03-01</td>\n",
       "      <td>Child</td>\n",
       "      <td>7.19.2018</td>\n",
       "      <td>UMN</td>\n",
       "    </tr>\n",
       "    <tr>\n",
       "      <th>3</th>\n",
       "      <td>116056</td>\n",
       "      <td>2016-09-29</td>\n",
       "      <td>Child</td>\n",
       "      <td>7.19.2018</td>\n",
       "      <td>UMN</td>\n",
       "    </tr>\n",
       "    <tr>\n",
       "      <th>7</th>\n",
       "      <td>116845</td>\n",
       "      <td>2016-06-23</td>\n",
       "      <td>Child</td>\n",
       "      <td>7.19.2018</td>\n",
       "      <td>UMN</td>\n",
       "    </tr>\n",
       "    <tr>\n",
       "      <th>9</th>\n",
       "      <td>125632</td>\n",
       "      <td>2016-03-31</td>\n",
       "      <td>Child</td>\n",
       "      <td>7.19.2018</td>\n",
       "      <td>UMN</td>\n",
       "    </tr>\n",
       "    <tr>\n",
       "      <th>13</th>\n",
       "      <td>131015</td>\n",
       "      <td>2016-04-06</td>\n",
       "      <td>Child</td>\n",
       "      <td>7.19.2018</td>\n",
       "      <td>UMN</td>\n",
       "    </tr>\n",
       "  </tbody>\n",
       "</table>\n",
       "</div>"
      ],
      "text/plain": [
       "   Record ID Date of Intake Child/Mother QA Done/Sent to PI + Date Site\n",
       "0     105040     2017-03-01        Child                 7.19.2018  UMN\n",
       "3     116056     2016-09-29        Child                 7.19.2018  UMN\n",
       "7     116845     2016-06-23        Child                 7.19.2018  UMN\n",
       "9     125632     2016-03-31        Child                 7.19.2018  UMN\n",
       "13    131015     2016-04-06        Child                 7.19.2018  UMN"
      ]
     },
     "execution_count": 13,
     "metadata": {},
     "output_type": "execute_result"
    }
   ],
   "source": [
    "child_df = temp_df.loc[temp_df['Child/Mother'] == \"Child\"]\n",
    "\n",
    "print(\"Check unique values returned is only child: \\n{}\".format(child_df[\"Child/Mother\"].unique()))\n",
    "child_df.head()"
   ]
  },
  {
   "cell_type": "code",
   "execution_count": 14,
   "metadata": {},
   "outputs": [
    {
     "data": {
      "text/html": [
       "<div>\n",
       "<style scoped>\n",
       "    .dataframe tbody tr th:only-of-type {\n",
       "        vertical-align: middle;\n",
       "    }\n",
       "\n",
       "    .dataframe tbody tr th {\n",
       "        vertical-align: top;\n",
       "    }\n",
       "\n",
       "    .dataframe thead th {\n",
       "        text-align: right;\n",
       "    }\n",
       "</style>\n",
       "<table border=\"1\" class=\"dataframe\">\n",
       "  <thead>\n",
       "    <tr style=\"text-align: right;\">\n",
       "      <th></th>\n",
       "      <th>Record ID</th>\n",
       "      <th>Date of Intake</th>\n",
       "      <th>QA Done/Sent to PI + Date</th>\n",
       "      <th>Site</th>\n",
       "    </tr>\n",
       "  </thead>\n",
       "  <tbody>\n",
       "    <tr>\n",
       "      <th>0</th>\n",
       "      <td>105040</td>\n",
       "      <td>2017-03-01</td>\n",
       "      <td>7.19.2018</td>\n",
       "      <td>UMN</td>\n",
       "    </tr>\n",
       "    <tr>\n",
       "      <th>3</th>\n",
       "      <td>116056</td>\n",
       "      <td>2016-09-29</td>\n",
       "      <td>7.19.2018</td>\n",
       "      <td>UMN</td>\n",
       "    </tr>\n",
       "    <tr>\n",
       "      <th>7</th>\n",
       "      <td>116845</td>\n",
       "      <td>2016-06-23</td>\n",
       "      <td>7.19.2018</td>\n",
       "      <td>UMN</td>\n",
       "    </tr>\n",
       "    <tr>\n",
       "      <th>9</th>\n",
       "      <td>125632</td>\n",
       "      <td>2016-03-31</td>\n",
       "      <td>7.19.2018</td>\n",
       "      <td>UMN</td>\n",
       "    </tr>\n",
       "    <tr>\n",
       "      <th>13</th>\n",
       "      <td>131015</td>\n",
       "      <td>2016-04-06</td>\n",
       "      <td>7.19.2018</td>\n",
       "      <td>UMN</td>\n",
       "    </tr>\n",
       "  </tbody>\n",
       "</table>\n",
       "</div>"
      ],
      "text/plain": [
       "   Record ID Date of Intake QA Done/Sent to PI + Date Site\n",
       "0     105040     2017-03-01                 7.19.2018  UMN\n",
       "3     116056     2016-09-29                 7.19.2018  UMN\n",
       "7     116845     2016-06-23                 7.19.2018  UMN\n",
       "9     125632     2016-03-31                 7.19.2018  UMN\n",
       "13    131015     2016-04-06                 7.19.2018  UMN"
      ]
     },
     "execution_count": 14,
     "metadata": {},
     "output_type": "execute_result"
    }
   ],
   "source": [
    "child_df = child_df.drop(labels=\"Child/Mother\", axis=1)\n",
    "child_df_2 = child_df[child_df['Record ID'].apply(lambda x: len(str(x)) <= 6)]\n",
    "# remove unneccessarty column \n",
    "child_df_2.head()\n"
   ]
  },
  {
   "cell_type": "code",
   "execution_count": 16,
   "metadata": {},
   "outputs": [
    {
     "name": "stdout",
     "output_type": "stream",
     "text": [
      "Child Participant Count: 195 \n",
      "IDS: ['105040' '116056' '116845' '125632' '131015' '176427' '176851' '198202'\n",
      " '198549' '231205' '234130' '266437' '277066' '282791' '284149' '295081'\n",
      " '320544' '381606' '401592' '406768' '408997' '415958' '423548' '447077'\n",
      " '468570' '469900' '470431' '495082' '514306' '518969' '519250' '544404'\n",
      " '552990' '557806' '583494' '584381' '590275' '597306' '601017' '621289'\n",
      " '627929' '645257' '661045' '675362' '676274' '684448' '726893' '752770'\n",
      " '755330' '761141' '786266' '794032' '801091' '801901' '805063' '812574'\n",
      " '826360' '838827' '859613' '879509' '883901' '904006' '908191' '927564'\n",
      " '932286' '933910' '939785' '940808' '960370' '960432' '978698' '981664'\n",
      " '981854' '993015' '2081' '17541' '52977' '67688' '106436' '107008'\n",
      " '110006' '111521' '132476' '137012' '158643' '189896' '266394' '314462'\n",
      " '354404' '385434' '388560' '395568' '406663' '417855' '421109' '456907'\n",
      " '494244' '518139' '525955' '530066' '576112' '607764' '648807' '675674'\n",
      " '683402' '683764' '757282' '758603' '774387' '859865' '865900' '945369'\n",
      " '950202' '107842' '199865' '204659' '372377' '439999' '477045' '522586'\n",
      " '627391' '740371' '353374' '469090' '629130' '637299' '706655' '709477'\n",
      " '722612' '798610' '830201' '938316' '011228' '017541' '062519' '148796'\n",
      " '151307' '157075' '200474' '216852' '382287' '412584' '418793' '488291'\n",
      " '505525' '509659' '515697' '664313' '713347' '732627' '788132' '911829'\n",
      " '999647' '124529' '309615' '317415' '375518' '439083' '469822' '617942'\n",
      " '633038' '672698' '676724' '682023' '705639' '710922' '863856' '865762'\n",
      " '866461' '887679' '947206' '052977' '089476' '223244' '340476' '433089'\n",
      " '523054' '548074' '605985' '185373' '240615' '261266' '318747' '380510'\n",
      " '439037' '458050' '635515' '671741' '706050' '907184' '943541' '985303'\n",
      " '002081' '051407' '774004']\n"
     ]
    }
   ],
   "source": [
    "print(\"Child Participant Count: {} \\nIDS: {}\".format(len(child_df_2.index),child_df_2[\"Record ID\"].unique()))"
   ]
  },
  {
   "cell_type": "markdown",
   "metadata": {},
   "source": [
    "## Get Mom Participants"
   ]
  },
  {
   "cell_type": "code",
   "execution_count": 17,
   "metadata": {},
   "outputs": [
    {
     "data": {
      "text/plain": [
       "array(['Mom'], dtype=object)"
      ]
     },
     "execution_count": 17,
     "metadata": {},
     "output_type": "execute_result"
    }
   ],
   "source": [
    "mom_df = temp_df.loc[temp_df['Child/Mother'] == \"Mom\"]\n",
    "mom_df[\"Child/Mother\"].unique()"
   ]
  },
  {
   "cell_type": "code",
   "execution_count": 18,
   "metadata": {},
   "outputs": [
    {
     "data": {
      "text/html": [
       "<div>\n",
       "<style scoped>\n",
       "    .dataframe tbody tr th:only-of-type {\n",
       "        vertical-align: middle;\n",
       "    }\n",
       "\n",
       "    .dataframe tbody tr th {\n",
       "        vertical-align: top;\n",
       "    }\n",
       "\n",
       "    .dataframe thead th {\n",
       "        text-align: right;\n",
       "    }\n",
       "</style>\n",
       "<table border=\"1\" class=\"dataframe\">\n",
       "  <thead>\n",
       "    <tr style=\"text-align: right;\">\n",
       "      <th></th>\n",
       "      <th>Record ID</th>\n",
       "      <th>Date of Intake</th>\n",
       "      <th>QA Done/Sent to PI + Date</th>\n",
       "      <th>Site</th>\n",
       "    </tr>\n",
       "  </thead>\n",
       "  <tbody>\n",
       "    <tr>\n",
       "      <th>885</th>\n",
       "      <td>001999</td>\n",
       "      <td>2018-09-18</td>\n",
       "      <td>5.20.19</td>\n",
       "      <td>UMN</td>\n",
       "    </tr>\n",
       "    <tr>\n",
       "      <th>886</th>\n",
       "      <td>020784</td>\n",
       "      <td>2018-09-25</td>\n",
       "      <td>5.20.19</td>\n",
       "      <td>UMN</td>\n",
       "    </tr>\n",
       "    <tr>\n",
       "      <th>678</th>\n",
       "      <td>094794</td>\n",
       "      <td>2018-04-17</td>\n",
       "      <td>10.10.2018</td>\n",
       "      <td>UNC</td>\n",
       "    </tr>\n",
       "    <tr>\n",
       "      <th>219</th>\n",
       "      <td>109504</td>\n",
       "      <td>2016-06-22</td>\n",
       "      <td>7.19.2018</td>\n",
       "      <td>UMN</td>\n",
       "    </tr>\n",
       "    <tr>\n",
       "      <th>412</th>\n",
       "      <td>11370</td>\n",
       "      <td>2017-05-30</td>\n",
       "      <td>7.19.2018</td>\n",
       "      <td>UNC</td>\n",
       "    </tr>\n",
       "  </tbody>\n",
       "</table>\n",
       "</div>"
      ],
      "text/plain": [
       "    Record ID Date of Intake QA Done/Sent to PI + Date Site\n",
       "885    001999     2018-09-18                   5.20.19  UMN\n",
       "886    020784     2018-09-25                   5.20.19  UMN\n",
       "678    094794     2018-04-17                10.10.2018  UNC\n",
       "219    109504     2016-06-22                 7.19.2018  UMN\n",
       "412     11370     2017-05-30                 7.19.2018  UNC"
      ]
     },
     "execution_count": 18,
     "metadata": {},
     "output_type": "execute_result"
    }
   ],
   "source": [
    "mom_df = mom_df.drop(labels=\"Child/Mother\", axis=1)\n",
    "#remove IDS with *_*\n",
    "\n",
    "mom_df_2 = mom_df[mom_df['Record ID'].apply(lambda x: len(str(x)) <= 6)]\n",
    "# remove unneccessarty column \n",
    "\n",
    "mom_df_2 = mom_df_2.sort_values(by=[\"Record ID\"])\n",
    "mom_df_2.head()"
   ]
  },
  {
   "cell_type": "code",
   "execution_count": 19,
   "metadata": {},
   "outputs": [
    {
     "name": "stdout",
     "output_type": "stream",
     "text": [
      "Mom Participant Count: 125 \n",
      "IDS: ['001999' '020784' '094794' '109504' '11370' '116769' '119470' '131688'\n",
      " '133077' '133561' '144877' '155866' '156965' '167383' '176411' '183117'\n",
      " '1995' '20784' '223289' '245640' '249520' '251117' '254818' '256619'\n",
      " '257080' '280884' '281070' '300049' '313655' '317427' '317472' '322454'\n",
      " '324799' '326170' '33730' '340317' '345957' '346853' '347951' '356145'\n",
      " '361077' '375107' '382315' '387363' '392823' '396170' '396896' '402441'\n",
      " '404241' '412386' '413885' '415786' '419491' '423766' '426514' '43358'\n",
      " '442195' '456325' '457548' '457901' '480512' '48138' '482995' '483449'\n",
      " '497541' '503205' '505849' '515555' '52157' '523087' '550616' '569291'\n",
      " '594390' '598861' '610193' '633471' '641446' '651789' '672463' '677937'\n",
      " '679040' '698973' '706544' '713270' '723526' '731804' '738109' '740415'\n",
      " '744354' '747776' '759641' '765488' '798486' '802550' '805086' '812039'\n",
      " '814156' '834081' '834602' '838504' '846789' '853992' '861379' '867563'\n",
      " '878596' '884169' '886496' '892320' '897704' '900077' '901945' '910908'\n",
      " '915257' '917387' '919097' '925936' '950960' '957439' '964936' '966822'\n",
      " '968444' '970141' '978402' '982354' '998606']\n"
     ]
    }
   ],
   "source": [
    "print(\"Mom Participant Count: {} \\nIDS: {}\".format(len(mom_df_2.index),mom_df_2[\"Record ID\"].unique()))\n",
    "\n"
   ]
  },
  {
   "cell_type": "markdown",
   "metadata": {},
   "source": [
    "## Compare with current dataset"
   ]
  },
  {
   "cell_type": "code",
   "execution_count": 49,
   "metadata": {},
   "outputs": [
    {
     "name": "stdout",
     "output_type": "stream",
     "text": [
      "Text Files Found:  \n",
      "For Mom: /Users/nikkibytes/Documents/summer2019/example_data/UMNUNCChild04.txt,/Users/nikkibytes/Documents/summer2019/example_data/UMNUNCChild04_.txt \n",
      "For Child: /Users/nikkibytes/Documents/summer2019/example_data/UMNUNCMom04.txt\n"
     ]
    }
   ],
   "source": [
    "data_dir_path = \"/Users/nikkibytes/Documents/summer2019/example_data\"\n",
    "\n",
    "child04_text_files = glob.glob(os.path.join(data_dir_path, \"*Child*04*\"))\n",
    "mom04_text_files = glob.glob(os.path.join(data_dir_path, \"*Mom*04*\"))\n",
    "\n",
    "print(\"Text Files Found:  \\nFor Mom: {} \\nFor Child: {}\".format(','.join(child04_text_files), ','.join(mom04_text_files)))\n",
    "      "
   ]
  }
 ],
 "metadata": {
  "kernelspec": {
   "display_name": "Python 3",
   "language": "python",
   "name": "python3"
  },
  "language_info": {
   "codemirror_mode": {
    "name": "ipython",
    "version": 3
   },
   "file_extension": ".py",
   "mimetype": "text/x-python",
   "name": "python",
   "nbconvert_exporter": "python",
   "pygments_lexer": "ipython3",
   "version": "3.6.9"
  }
 },
 "nbformat": 4,
 "nbformat_minor": 4
}
